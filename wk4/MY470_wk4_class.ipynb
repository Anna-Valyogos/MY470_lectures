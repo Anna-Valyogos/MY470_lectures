{
 "cells": [
  {
   "cell_type": "markdown",
   "metadata": {
    "slideshow": {
     "slide_type": "slide"
    }
   },
   "source": [
    "### MY470 Computer Programming\n",
    "# Writing and Calling Functions in Python\n",
    "### Week 4 Lab"
   ]
  },
  {
   "cell_type": "markdown",
   "metadata": {
    "slideshow": {
     "slide_type": "slide"
    }
   },
   "source": [
    "## Defining and Calling Functions\n",
    "\n",
    "### Defining a function\n",
    "\n",
    "```\n",
    "def *function_name*(*list of parameters*):\n",
    "    *body of function*\n",
    "```\n",
    "\n",
    "### Calling a function\n",
    "\n",
    "```\n",
    "*function_name*(*arguments*)\n",
    "```\n",
    "\n",
    "### Functions can take 0 or more arguments and return 1 or more values!\n",
    "\n",
    "### If a function does not have `return` statement, it returns `None`"
   ]
  },
  {
   "cell_type": "markdown",
   "metadata": {
    "slideshow": {
     "slide_type": "slide"
    }
   },
   "source": [
    "## Functions Take Arguments by Reference"
   ]
  },
  {
   "cell_type": "code",
   "execution_count": 6,
   "metadata": {
    "slideshow": {
     "slide_type": "-"
    }
   },
   "outputs": [
    {
     "name": "stdout",
     "output_type": "stream",
     "text": [
      "[1, 2, 3, 0]\n"
     ]
    }
   ],
   "source": [
    "def change_list(alist):\n",
    "    alist.append(0)\n",
    "\n",
    "mylist = [1, 2, 3]\n",
    "change_list(mylist)\n",
    "print(mylist)"
   ]
  },
  {
   "cell_type": "code",
   "execution_count": 2,
   "metadata": {
    "scrolled": true,
    "slideshow": {
     "slide_type": "fragment"
    }
   },
   "outputs": [
    {
     "name": "stdout",
     "output_type": "stream",
     "text": [
      "[1, 2, 3]\n",
      "[0, 0, 0]\n"
     ]
    }
   ],
   "source": [
    "def zero_list(alist):\n",
    "    \"\"\"Takes a list and returns another list of the same length \n",
    "    that looks like [0, 0, 0, ...].\n",
    "    \"\"\"\n",
    "    new_list = [0]*len(alist)  # Creates a new local reference for alist\n",
    "    return new_list\n",
    "    \n",
    "mylist = [1, 2, 3]\n",
    "zero_list = zero_list(mylist)\n",
    "print(mylist)\n",
    "print(zero_list)"
   ]
  },
  {
   "cell_type": "code",
   "execution_count": 3,
   "metadata": {
    "slideshow": {
     "slide_type": "fragment"
    }
   },
   "outputs": [
    {
     "name": "stdout",
     "output_type": "stream",
     "text": [
      "[0, 0, 0]\n",
      "[1, 2, 3]\n"
     ]
    }
   ],
   "source": [
    "# Exercise 1: Rewrite the function definition and call above \n",
    "# to accomplish what the function intends to do.\n",
    "\n",
    "def zero_list(alist):\n",
    "    \"\"\"Takes a list and returns another list of the same length \n",
    "    that looks like [0, 0, 0, ...].\n",
    "    \"\"\"\n",
    "    return [0]*len(alist)  # Creates a new local reference for alist\n",
    "\n",
    "mylist = [1, 2, 3]\n",
    "print(zero_list(mylist))\n",
    "print(mylist)\n",
    "# the original list did not change, the function returns an other list"
   ]
  },
  {
   "cell_type": "markdown",
   "metadata": {
    "slideshow": {
     "slide_type": "slide"
    }
   },
   "source": [
    "## Using Docstrings (String Literals) to Specify Functions\n"
   ]
  },
  {
   "cell_type": "code",
   "execution_count": 14,
   "metadata": {
    "scrolled": true,
    "slideshow": {
     "slide_type": "-"
    }
   },
   "outputs": [
    {
     "name": "stdout",
     "output_type": "stream",
     "text": [
      "Help on function f in module __main__:\n",
      "\n",
      "f(x, y)\n",
      "    Demonstrates the importance of providing specification for functions.\n",
      "    Assumes x and y any type.\n",
      "    Returns nothing.\n",
      "\n"
     ]
    }
   ],
   "source": [
    "def f(x, y):\n",
    "    \"\"\"Demonstrates the importance of providing specification for functions.\n",
    "    Assumes x and y any type.\n",
    "    Returns nothing.\n",
    "    \"\"\"\n",
    "    pass\n",
    "\n",
    "help(f)"
   ]
  },
  {
   "cell_type": "markdown",
   "metadata": {
    "slideshow": {
     "slide_type": "fragment"
    }
   },
   "source": [
    "![Commenting](figs/commenting.jpg \"Commenting\")"
   ]
  },
  {
   "cell_type": "markdown",
   "metadata": {
    "slideshow": {
     "slide_type": "slide"
    }
   },
   "source": [
    "## Using Functions Instead of Copy-Pasting Code"
   ]
  },
  {
   "cell_type": "code",
   "execution_count": 5,
   "metadata": {
    "slideshow": {
     "slide_type": "-"
    }
   },
   "outputs": [
    {
     "name": "stdout",
     "output_type": "stream",
     "text": [
      "Alan Turing was a mathematician.\n",
      "Richard Feynman was a physicist.\n",
      "Marie Curie was a chemist.\n",
      "Charles Darwin was a biologist.\n",
      "Ada Lovelace was a mathematician.\n",
      "Werner Heisenberg was a physicist.\n"
     ]
    }
   ],
   "source": [
    "# Consider the following code:\n",
    "\n",
    "# Print the name and profession of famous dead scientists:\n",
    "print('Alan Turing was a mathematician.')\n",
    "print('Richard Feynman was a physicist.')\n",
    "print('Marie Curie was a chemist.')\n",
    "print('Charles Darwin was a biologist.')\n",
    "print('Ada Lovelace was a mathematician.')\n",
    "print('Werner Heisenberg was a physicist.')"
   ]
  },
  {
   "cell_type": "code",
   "execution_count": 5,
   "metadata": {
    "slideshow": {
     "slide_type": "-"
    }
   },
   "outputs": [
    {
     "name": "stdout",
     "output_type": "stream",
     "text": [
      "Alan Turing was a mathematician.\n",
      "Richard Feynman was a physicist.\n",
      "Marie Curie was a chemist.\n",
      "Charles Darwin was a biologist.\n",
      "Ada Lovelace was a mathematician.\n",
      "Werner Heisenberg was a physicist.\n"
     ]
    }
   ],
   "source": [
    "### Assumer input is a dictionary!\n",
    "\n",
    "# Exercise 2: Rewrite the code using a function and a suitable data structure.\n",
    "\n",
    "def name_and_profession_printer(dictionary):\n",
    "    '''Takes a dictionary including names and corresponding professions \n",
    "    and returns the printed statement \"/Name/ was a /profession/.\"\n",
    "    Assumes name and profession are keys and values in a dictionary.'''\n",
    "    for name in dictionary.keys():\n",
    "        print(name, ' was a ', dictionary[name], '.', sep = '')\n",
    "    \n",
    "\n",
    "scientists_dict = {'Alan Turing': 'mathematician',\n",
    "                  'Richard Feynman': 'physicist',\n",
    "                  'Marie Curie': 'chemist',\n",
    "                  'Charles Darwin': 'biologist',\n",
    "                   'Ada Lovelace': 'mathematician',\n",
    "                   'Werner Heisenberg': 'physicist'}\n",
    "\n",
    "name_and_profession_printer(scientists_dict)\n",
    "\n",
    "# starting with consonant or vowel --> adjust a or an"
   ]
  },
  {
   "cell_type": "markdown",
   "metadata": {
    "slideshow": {
     "slide_type": "slide"
    }
   },
   "source": [
    "## Using Functions to Improve Legibility and Modularity"
   ]
  },
  {
   "cell_type": "code",
   "execution_count": 7,
   "metadata": {
    "slideshow": {
     "slide_type": "-"
    }
   },
   "outputs": [
    {
     "name": "stdout",
     "output_type": "stream",
     "text": [
      "8.860022573334675\n"
     ]
    }
   ],
   "source": [
    "# Consider the following code:\n",
    "\n",
    "# You are given two points in 2-D space\n",
    "x = (1, 1)\n",
    "y = (5, 4)\n",
    "\n",
    "# Calculate the area of the circle if one of the points is the circle center \n",
    "# and the other is on the perimeter and then calculate the side of the square \n",
    "# with the same area\n",
    "r_sq = (x[0] - y[0])**2 + (x[1] - y[1])**2\n",
    "area = 3.14*r_sq\n",
    "sq_side = area**0.5\n",
    "print(sq_side)\n"
   ]
  },
  {
   "cell_type": "code",
   "execution_count": 22,
   "metadata": {
    "slideshow": {
     "slide_type": "-"
    }
   },
   "outputs": [
    {
     "data": {
      "text/plain": [
       "8.860022573334675"
      ]
     },
     "execution_count": 22,
     "metadata": {},
     "output_type": "execute_result"
    }
   ],
   "source": [
    "# Exercise 3: Rewrite the code above using functions \n",
    "# to make it easier to read.\n",
    "\n",
    "def square_with_same_area(x, y):\n",
    "    '''Takes two points in 2-D space as inputs.\n",
    "    Returns the side of the square that has the same area\n",
    "    as the circle with x as the center and y on the perimeter\n",
    "    (or vice versa).\n",
    "    Assumes x and y are have two numeric coordinate values.'''\n",
    "    r_sq = (x[0] - y[0])**2 + (x[1] - y[1])**2\n",
    "    area = 3.14*r_sq\n",
    "    sq_side = area**0.5\n",
    "    return sq_side\n",
    "\n",
    "test_x = (1, 1)\n",
    "test_y = (5, 4)\n",
    "square_with_same_area(test_x, test_y)"
   ]
  },
  {
   "cell_type": "code",
   "execution_count": 8,
   "metadata": {},
   "outputs": [
    {
     "name": "stdout",
     "output_type": "stream",
     "text": [
      "8.860022573334675\n"
     ]
    }
   ],
   "source": [
    "# Exercise 3: Rewrite the code below using functions \n",
    "# to make it easier to read.\n",
    "\n",
    "\n",
    "# Solution: Break the code into as many meaningful, \n",
    "# self-contained functions as you can.\n",
    "\n",
    "def get_dist(x, y):\n",
    "    '''Assumes x and y are each a two-sequence of numeric coordinates. \n",
    "    Estimates the distance between x and y.'''\n",
    "    return ( (x[0] - y[0])**2 + (x[1] - y[1])**2 )**0.5\n",
    "\n",
    "def get_circle_area(r):\n",
    "    '''Assumes r is a numeric type. \n",
    "    Estimates the area of a circle with radius r.'''\n",
    "    return 3.14*r*r\n",
    "\n",
    "def get_square_side(a):\n",
    "    '''Assumes a is a numeric type.\n",
    "    Estimates the side of a square with area a.'''\n",
    "    return a**0.5\n",
    "\n",
    "# Now just call each function sequentially. \n",
    "# If you have descriptive names for the functions,\n",
    "# there isn't even a need to comment your code!\n",
    "r = get_dist(x, y)\n",
    "area = get_circle_area(r)\n",
    "s = get_square_side(area)\n",
    "print(s)"
   ]
  },
  {
   "cell_type": "markdown",
   "metadata": {
    "slideshow": {
     "slide_type": "slide"
    }
   },
   "source": [
    "## Using Functions Inside List Comprehensions"
   ]
  },
  {
   "cell_type": "code",
   "execution_count": 23,
   "metadata": {
    "slideshow": {
     "slide_type": "-"
    }
   },
   "outputs": [
    {
     "name": "stdout",
     "output_type": "stream",
     "text": [
      "[25, 16, 9, 4, 1, 0.0, 1.0, 1.4142135623730951, 1.7320508075688772, 2.0, 2.23606797749979]\n"
     ]
    }
   ],
   "source": [
    "def sq_or_sqrt(x):\n",
    "    \"\"\"Assumes x is numeric. Returns the square of x if x is negative\n",
    "    and the square root of x if x is nonnegative.\"\"\"\n",
    "    if x < 0:\n",
    "        return x**2\n",
    "    else:\n",
    "        return x**0.5\n",
    "\n",
    "lst = [sq_or_sqrt(i) for i in range(-5, 6)]\n",
    "print(lst)\n"
   ]
  },
  {
   "cell_type": "code",
   "execution_count": 12,
   "metadata": {
    "slideshow": {
     "slide_type": "-"
    }
   },
   "outputs": [
    {
     "data": {
      "text/plain": [
       "[None, None, 2, 178, None, 12, None, None, 12]"
      ]
     },
     "execution_count": 12,
     "metadata": {},
     "output_type": "execute_result"
    }
   ],
   "source": [
    "# Exercise 4: Using a function and a list comprehension, \n",
    "# create a new list that has the numbers from testlist \n",
    "# if they are positive and None otherwise\n",
    "\n",
    "testlist = [-1, 0, 2, 178, -17.2, 12, -2, -3, 12]\n",
    "\n",
    "def is_positive(lst):\n",
    "    '''Takes a list as input and returns\n",
    "    an other list with the positive elements \n",
    "    and None in lieu of the negative ones.'''\n",
    "    res = [i if i > 0 else None for i in lst]\n",
    "    return res\n",
    "\n",
    "is_positive(testlist)"
   ]
  },
  {
   "cell_type": "code",
   "execution_count": 34,
   "metadata": {
    "slideshow": {
     "slide_type": "-"
    }
   },
   "outputs": [
    {
     "data": {
      "text/plain": [
       "[None, 0.0, None, 89.0, -1.4333333333333333, 24.0, None, -12.0, None]"
      ]
     },
     "execution_count": 34,
     "metadata": {},
     "output_type": "execute_result"
    }
   ],
   "source": [
    "### Assumes x and y are of numeric type. Not lists!\n",
    "\n",
    "# Exercise 5: Using a function and a list comprehension, create \n",
    "# a new list that includes the result from dividing each number \n",
    "# from testlist1 by the corresponding number in testlist2; \n",
    "# For the cases when the divisor is 0, the new list should include None\n",
    "\n",
    "testlist1 = [-1, 0, 2, 178, -17.2, 12, -2, -3, 12]\n",
    "testlist2 = [0, 5, 0, 2, 12, 0.5, 0, 0.25, 0]\n",
    "\n",
    "def divisor(lst1, lst2):\n",
    "    '''Takes two lists as inputs and returns a\n",
    "    new list with the elements that result from \n",
    "    dividing each number from the first list by \n",
    "    the corresponding number in the second list.\n",
    "    For the cases when the divisor is 0, the new \n",
    "    list includes None.\n",
    "    Assumes the two lists are of the same length.\n",
    "    '''\n",
    "    \n",
    "    res = [lst1[i]/lst2[i] if lst2[i] != 0 else None for i in range(0,len(lst1))]\n",
    "    return res\n",
    "\n",
    "divisor(testlist1, testlist2)"
   ]
  },
  {
   "cell_type": "markdown",
   "metadata": {
    "slideshow": {
     "slide_type": "slide"
    }
   },
   "source": [
    "## Using Functions For General Cases"
   ]
  },
  {
   "cell_type": "code",
   "execution_count": 51,
   "metadata": {
    "slideshow": {
     "slide_type": "-"
    }
   },
   "outputs": [
    {
     "name": "stdout",
     "output_type": "stream",
     "text": [
      "True\n",
      "False\n",
      "True\n",
      "False\n",
      "Indul a gorog aludni. This is a palindrome sentence - True\n"
     ]
    }
   ],
   "source": [
    "### Returns True if s is a palindrome, False otherwise. Remove all spaces. Focus on efficiency!\n",
    "\n",
    "# Exercise 6: Write a Python function that checks if a string \n",
    "# is a palindrome. A palindrome is a word or a phrase that reads \n",
    "# the same backward as forward. For example, redder, nurses run, dad...\n",
    "\n",
    "def palindrome(string):\n",
    "    '''Takes a string as input and returns True if it is a palindrome,\n",
    "    False otherwise.\n",
    "    Assumes the input is a string.'''\n",
    "    \n",
    "    return string == string[::-1]\n",
    "    \n",
    "print(palindrome('dad'))\n",
    "print(palindrome('example'))\n",
    "    \n",
    "    \n",
    "    \n",
    "def palindrome_spaces(string):\n",
    "    '''Takes a phrase as input and returns True if it is a palindrome,\n",
    "    False otherwise. A phrase is considered a palindrome even if spaces are placed \n",
    "    differently in original and reverse orders. (Often happens in Hungarian for instance.)\n",
    "    Assumes the input is a string...'''\n",
    "    \n",
    "    return string.replace(' ', '').replace('.', '').lower() == string[::-1].replace(' ', '').replace('.', '').lower()\n",
    "    \n",
    "print(palindrome_spaces('dad'))\n",
    "print(palindrome_spaces('example'))\n",
    "\n",
    "my_test = 'Indul a gorog aludni.'\n",
    "print(my_test, 'This is a palindrome sentence -', palindrome_spaces(my_test))\n",
    "  "
   ]
  }
 ],
 "metadata": {
  "celltoolbar": "Slideshow",
  "kernelspec": {
   "display_name": "Python 3",
   "language": "python",
   "name": "python3"
  },
  "language_info": {
   "codemirror_mode": {
    "name": "ipython",
    "version": 3
   },
   "file_extension": ".py",
   "mimetype": "text/x-python",
   "name": "python",
   "nbconvert_exporter": "python",
   "pygments_lexer": "ipython3",
   "version": "3.8.3"
  }
 },
 "nbformat": 4,
 "nbformat_minor": 2
}
