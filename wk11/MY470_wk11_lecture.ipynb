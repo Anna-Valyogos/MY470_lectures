{
 "cells": [
  {
   "cell_type": "markdown",
   "metadata": {
    "slideshow": {
     "slide_type": "slide"
    }
   },
   "source": [
    "### MY470 Computer Programming\n",
    "# Tree and Graph Algorithms\n",
    "### Week 11 Lecture"
   ]
  },
  {
   "cell_type": "markdown",
   "metadata": {
    "slideshow": {
     "slide_type": "slide"
    }
   },
   "source": [
    "## Overview\n",
    "\n",
    "We will practice thinking about algorithm design and complexity analysis:\n",
    "\n",
    "* Trees and tree algorithms\n",
    "* Graphs and graph algorithms\n",
    "---\n",
    "* Course summary \n",
    "* The final assignment\n",
    "* Next steps"
   ]
  },
  {
   "cell_type": "markdown",
   "metadata": {
    "slideshow": {
     "slide_type": "slide"
    }
   },
   "source": [
    "## Tree and Graph Algorithms\n",
    "\n",
    "* Summary"
   ]
  },
  {
   "cell_type": "markdown",
   "metadata": {
    "slideshow": {
     "slide_type": "fragment"
    }
   },
   "source": [
    "-------\n",
    "\n",
    "* **Lab**: Useful Python modules and libraries\n",
    "* **Final assignment**: Link e-mailed to you by the end of Monday, December 14. Assignment is **due at 12:00 noon on Monday January 28th, 2021**"
   ]
  },
  {
   "cell_type": "markdown",
   "metadata": {
    "slideshow": {
     "slide_type": "notes"
    }
   },
   "source": [
    "---"
   ]
  },
  {
   "cell_type": "markdown",
   "metadata": {
    "slideshow": {
     "slide_type": "slide"
    }
   },
   "source": [
    "### MY470 Computer Programming\n",
    "# Course Summary and Next Steps\n",
    "### Week 11 Extra"
   ]
  },
  {
   "cell_type": "markdown",
   "metadata": {
    "slideshow": {
     "slide_type": "slide"
    }
   },
   "source": [
    "## Course Summary\n",
    "\n",
    "### Theory\n",
    "\n",
    "* Data structures and control flow\n",
    "* Modularity — functions and classes\n",
    "* Optimization — basic algorithm analysis"
   ]
  },
  {
   "cell_type": "markdown",
   "metadata": {
    "slideshow": {
     "slide_type": "fragment"
    }
   },
   "source": [
    "### Practice\n",
    "\n",
    "* Python and a bit of R\n",
    "* Writing professional code\n",
    "* Approaching a problem computationally"
   ]
  },
  {
   "cell_type": "markdown",
   "metadata": {
    "slideshow": {
     "slide_type": "slide"
    }
   },
   "source": [
    "## Essential Programming Skills: Legibility\n",
    "\n",
    "![Legibility](figs/legibility.jpg \"Legibility\")\n",
    "\n",
    "* Use comments\n",
    "* Use function specifications\n",
    "* Use informative names for variables\n",
    "* Use spaces around operators\n",
    "* Separate blocks of related code with empty lines\n",
    "* Follow conventions\n",
    "* Be consistent"
   ]
  },
  {
   "cell_type": "markdown",
   "metadata": {
    "slideshow": {
     "slide_type": "slide"
    }
   },
   "source": [
    "## Essential Programming Skills: Modularity\n",
    "\n",
    "![Modularity](figs/modularity.jpg \"Modularity\")\n",
    "\n",
    "* Use functions and/or classes\n",
    "* Use modules (`.py` files)\n",
    "* Keep related code in same module\n",
    "* Use informative names for functions, classes, and modules"
   ]
  },
  {
   "cell_type": "markdown",
   "metadata": {
    "slideshow": {
     "slide_type": "slide"
    }
   },
   "source": [
    "## Essential Programming Skills: Optimization\n",
    "\n",
    "![Optimization](figs/optimization.jpg \"Optimization\")\n",
    "\n",
    "* Analyze order of growth and consider alternative approaches\n",
    "* Remove unnecessary operations\n",
    "* Consolidate loops\n",
    "* Try and rewrite nested loops\n",
    "* Use list comprehensions and built-in functions/methods whenever possible"
   ]
  },
  {
   "cell_type": "markdown",
   "metadata": {
    "slideshow": {
     "slide_type": "slide"
    }
   },
   "source": [
    "## Final Assignment\n"
   ]
  },
  {
   "cell_type": "markdown",
   "metadata": {
    "slideshow": {
     "slide_type": "fragment"
    }
   },
   "source": [
    "### Data\n",
    "\n",
    "* Collected by Jinny Kim in spring 2019\n",
    "* A sample of matches on the MMOG PlayerUnknown's Battlegrounds\n",
    "* A list of interactions (who killed whom)\n",
    "* A list of players who were banned due to cheating"
   ]
  },
  {
   "cell_type": "markdown",
   "metadata": {
    "slideshow": {
     "slide_type": "fragment"
    }
   },
   "source": [
    "### Task\n",
    "\n",
    "* Are victims of cheaters more likely to cheat?\n",
    "* We will follow a procedure similar to temporal motif analysis (used for temporal networks)\n",
    "    * Count motifs: Players who were killed by a cheater and then started cheating within a certain period\n",
    "    * Reorder events: Randomize the killing network preserving its structural features \n",
    "    * Compare the motif count in the observed data to those in the \"alternative universes\""
   ]
  },
  {
   "cell_type": "markdown",
   "metadata": {
    "scrolled": true,
    "slideshow": {
     "slide_type": "slide"
    }
   },
   "source": [
    "## Final Assignment – Expectations\n",
    "\n",
    "### Written in Python\n",
    "\n",
    "* **But you CANNOT use advanced data analysis libraries such as `pandas`, `sqlite`, `networkx`!**\n",
    "\n",
    "### Legible\n",
    "\n",
    "* Enough said...\n",
    "\n",
    "### Modular\n",
    "\n",
    "* Use functions and .py files\n",
    "* OOP is optional; if you decide to use it, do it well!\n",
    "\n",
    "### Reasonably optimized\n",
    "\n",
    "1. Make it run\n",
    "* Review and analyze it \n",
    "* If you can make it cleaner and faster, rewrite it"
   ]
  },
  {
   "cell_type": "markdown",
   "metadata": {
    "scrolled": true,
    "slideshow": {
     "slide_type": "slide"
    }
   },
   "source": [
    "## Final Assignment – Assessment\n",
    "\n",
    "* Code runs: **+ 10%**\n",
    "* It produces the correct output: **+ 40%**\n",
    "* It is modular: **+ 10%**\n",
    "* It is legible and well-documented: **+ 10%**\n",
    "* It is optimized in terms of order of growth: **+ 20%**\n",
    "* It is additionally optimized for performance (e.g., list comprehensions, no unnecessary loops, space efficient): **+ 10%**\n",
    "    "
   ]
  },
  {
   "cell_type": "markdown",
   "metadata": {
    "slideshow": {
     "slide_type": "slide"
    }
   },
   "source": [
    "## Next Steps\n",
    "\n",
    "* Finish the Guttag book\n",
    "* Make use of other resources online\n",
    "    * [Coursera](https://www.coursera.org/)\n",
    "    * [MIT OpenCourseWare](https://ocw.mit.edu/index.htm)\n",
    "    * [Code School](http://tryr.codeschool.com/)\n",
    "    * ... and [many others](https://github.com/lse-my470/lectures/blob/master/resources.md)\n",
    "* Read code at any opportunity\n",
    "    * E.g., browse through open-source code on GitHub\n",
    "* Write code at any opportunity\n",
    "* Practice, practice, practice"
   ]
  },
  {
   "cell_type": "markdown",
   "metadata": {
    "slideshow": {
     "slide_type": "slide"
    }
   },
   "source": [
    "## Your GitHub Profile\n",
    "\n",
    "* Please **DO NOT upload your answers or the example answers** to the weekly assignments – we reuse these!\n",
    "* You can post your final exam but remove any course identifying information that makes it easy to find in searches\n",
    "    * E.g. describe it as \"final assignment for my MSc course in computer programming\" not \"my LSE MY470 final\"\n",
    "* Employers look at GitHub stats and profiles so if you have more substantive code, upload it\n",
    "    * E.g. data collection or analysis for your MSc dissertion\n",
    "    * E.g. code that you think others may use (such as API to scrape a public website) – include documentation!"
   ]
  },
  {
   "cell_type": "markdown",
   "metadata": {
    "slideshow": {
     "slide_type": "slide"
    }
   },
   "source": [
    "## General Advice 1\n",
    "\n",
    "### There is no need to start from scratch — reuse your previous code or start from someone else's code\n",
    "\n",
    "![Not sure if I am a good programmer or just good at googling](figs/good_programmer.jpg \"Not sure if I am a good programmer or just good at googling\") \n"
   ]
  },
  {
   "cell_type": "markdown",
   "metadata": {
    "slideshow": {
     "slide_type": "slide"
    }
   },
   "source": [
    "## General Advice 2\n",
    "\n",
    "### It's not you — debugging is frustrating \n",
    "\n",
    "\n",
    "> — What's the most used language in prorgamming?\n",
    ">\n",
    "> — Profanity"
   ]
  },
  {
   "cell_type": "markdown",
   "metadata": {
    "slideshow": {
     "slide_type": "slide"
    }
   },
   "source": [
    "## General Advice 3\n",
    "\n",
    "### Welcome to the community!\n",
    "\n",
    "See, for example, **https://www.reddit.com/r/ProgrammerHumor/**\n",
    "\n",
    "> How to tell if my office mate is working?\n",
    "> ![How to tell if my office mate is working?](figs/programming.png \"How to tell if my office mate is working?\") "
   ]
  }
 ],
 "metadata": {
  "celltoolbar": "Slideshow",
  "kernelspec": {
   "display_name": "Python 3",
   "language": "python",
   "name": "python3"
  },
  "language_info": {
   "codemirror_mode": {
    "name": "ipython",
    "version": 3
   },
   "file_extension": ".py",
   "mimetype": "text/x-python",
   "name": "python",
   "nbconvert_exporter": "python",
   "pygments_lexer": "ipython3",
   "version": "3.7.3"
  }
 },
 "nbformat": 4,
 "nbformat_minor": 2
}
