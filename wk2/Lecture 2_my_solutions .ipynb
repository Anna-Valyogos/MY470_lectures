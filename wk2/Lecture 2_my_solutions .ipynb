{
 "cells": [
  {
   "cell_type": "markdown",
   "metadata": {},
   "source": [
    "**Non-Scalar Data Types: Exercise (Lecture video 2.2 16:30)**"
   ]
  },
  {
   "cell_type": "code",
   "execution_count": 1,
   "metadata": {},
   "outputs": [],
   "source": [
    "# Use len() to count the number of unique letters in the string below (only letters, not special characters)\n",
    "\n",
    "s = 'jackie will budget for the most expensive zoology equipment'"
   ]
  },
  {
   "cell_type": "code",
   "execution_count": 2,
   "metadata": {},
   "outputs": [
    {
     "name": "stdout",
     "output_type": "stream",
     "text": [
      "27\n",
      "26\n"
     ]
    }
   ],
   "source": [
    "print(len(set(s)))# yields number of all unique characters, not just letters (but also space for instance)\n",
    "\n",
    "from string import ascii_lowercase\n",
    "letters = ascii_lowercase\n",
    "\n",
    "my_letters=[]\n",
    "for i in set(s):\n",
    "    if i in letters:\n",
    "        my_letters.append(i)\n",
    "print(len(my_letters))"
   ]
  },
  {
   "cell_type": "markdown",
   "metadata": {},
   "source": [
    "**String Methods: Exercise (Lecture video 2.3 10:30)**"
   ]
  },
  {
   "cell_type": "code",
   "execution_count": 3,
   "metadata": {},
   "outputs": [],
   "source": [
    "# Use string methods to create a properly formatted sentence from the words below:\n",
    "\n",
    "ls = [' ThiS', 'SenTence', 'NEEDS', 'bEttEr!', 'foRmatting']"
   ]
  },
  {
   "cell_type": "code",
   "execution_count": 4,
   "metadata": {},
   "outputs": [
    {
     "data": {
      "text/plain": [
       "'This sentence needs better formatting.'"
      ]
     },
     "execution_count": 4,
     "metadata": {},
     "output_type": "execute_result"
    }
   ],
   "source": [
    "' '.join(ls).strip().lower().capitalize().replace('!','')+'.'"
   ]
  },
  {
   "cell_type": "markdown",
   "metadata": {},
   "source": [
    "**Indexing and Slicing: Exercise (Lecture video 2.4 12:15)**"
   ]
  },
  {
   "cell_type": "code",
   "execution_count": 5,
   "metadata": {},
   "outputs": [
    {
     "data": {
      "text/plain": [
       "'abcdefghijklmnopqrstuvwxyz'"
      ]
     },
     "execution_count": 5,
     "metadata": {},
     "output_type": "execute_result"
    }
   ],
   "source": [
    "# Use indexing and slicing to create a new sring that contains the \n",
    "# 2nd, 4th, 5th, 6th, and last characters from the string below.\n",
    "\n",
    "s_2 = ascii_lowercase\n",
    "s_2"
   ]
  },
  {
   "cell_type": "code",
   "execution_count": 7,
   "metadata": {},
   "outputs": [
    {
     "name": "stdout",
     "output_type": "stream",
     "text": [
      "[1, 3, 4, 5, -1]\n",
      "['b', 'd', 'e', 'f', 'z']\n",
      "bdefz\n"
     ]
    }
   ],
   "source": [
    "my_indeces = [2,4,5,6,-1]\n",
    "\n",
    "# tramsform indeces into python indeces\n",
    "python_indeces=[]\n",
    "for i in my_indeces:\n",
    "    if i >= 0:\n",
    "        python_indeces.append(i-1)\n",
    "    if i < 0:\n",
    "        python_indeces.append(i)\n",
    "print(python_indeces)\n",
    "\n",
    "print([s_2[ind] for ind in python_indeces])\n",
    "\n",
    "print(s_2[1]+s_2[3:6]+s_2[-1])\n"
   ]
  },
  {
   "cell_type": "markdown",
   "metadata": {},
   "source": [
    "**Aliasing and Cloning: Exercise (Lecture video 2.5 (14:45)**"
   ]
  },
  {
   "cell_type": "code",
   "execution_count": 113,
   "metadata": {},
   "outputs": [
    {
     "name": "stdout",
     "output_type": "stream",
     "text": [
      "[11, 3, 0, 6, 6, 1]\n"
     ]
    }
   ],
   "source": [
    "# What will the following program print?\n",
    "# My guess : answer (C), it will print [11,3,0,6,6,1]\n",
    "\n",
    "ls1 = [11,3,8,6,6,1]\n",
    "ls2 = ls1\n",
    "ls2[2] = 0\n",
    "print(ls1)\n",
    "\n",
    "# indeed, it does print that"
   ]
  },
  {
   "cell_type": "code",
   "execution_count": 116,
   "metadata": {},
   "outputs": [
    {
     "name": "stdout",
     "output_type": "stream",
     "text": [
      "[11, 3, 8, 6, 6, 1]\n"
     ]
    }
   ],
   "source": [
    "ls1 = [11,3,8,6,6,1]\n",
    "ls2 = ls1[::]\n",
    "ls2[2] = 0\n",
    "print(ls1)\n",
    "\n",
    "# now it does not, because ls2 points to a different underlying object"
   ]
  }
 ],
 "metadata": {
  "kernelspec": {
   "display_name": "Python 3",
   "language": "python",
   "name": "python3"
  },
  "language_info": {
   "codemirror_mode": {
    "name": "ipython",
    "version": 3
   },
   "file_extension": ".py",
   "mimetype": "text/x-python",
   "name": "python",
   "nbconvert_exporter": "python",
   "pygments_lexer": "ipython3",
   "version": "3.8.3"
  }
 },
 "nbformat": 4,
 "nbformat_minor": 4
}
